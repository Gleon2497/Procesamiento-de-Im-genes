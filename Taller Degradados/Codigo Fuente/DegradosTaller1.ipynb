{
 "cells": [
  {
   "cell_type": "markdown",
   "id": "66461fb9",
   "metadata": {},
   "source": [
    "# Taller #1 \n",
    "\n",
    "## Degradado de colores Python\n",
    "\n",
    "Presentado por: Pablo Escobar, Gustavo León, Andres Alarcon."
   ]
  },
  {
   "cell_type": "code",
   "execution_count": 10,
   "id": "e10ba05c",
   "metadata": {
    "scrolled": false
   },
   "outputs": [
    {
     "data": {
      "image/png": "[encoded data removed]",
      "text/plain": [
       "<Figure size 432x288 with 1 Axes>"
      ]
     },
     "metadata": {
      "needs_background": "light"
     },
     "output_type": "display_data"
    },
    {
     "data": {
      "image/png": "[encoded data removed]",
      "text/plain": [
       "<Figure size 432x288 with 1 Axes>"
      ]
     },
     "metadata": {
      "needs_background": "light"
     },
     "output_type": "display_data"
    },
    {
     "data": {
      "image/png": "[encoded data removed]",
      "text/plain": [
       "<Figure size 432x288 with 1 Axes>"
      ]
     },
     "metadata": {
      "needs_background": "light"
     },
     "output_type": "display_data"
    },
    {
     "data": {
      "image/png": "[encoded data removed]",
      "text/plain": [
       "<Figure size 432x288 with 1 Axes>"
      ]
     },
     "metadata": {
      "needs_background": "light"
     },
     "output_type": "display_data"
    },
    {
     "data": {
      "image/png": "[encoded data removed]",
      "text/plain": [
       "<Figure size 432x288 with 1 Axes>"
      ]
     },
     "metadata": {
      "needs_background": "light"
     },
     "output_type": "display_data"
    },
    {
     "data": {
      "image/png": "[encoded data removed]",
      "text/plain": [
       "<Figure size 432x288 with 1 Axes>"
      ]
     },
     "metadata": {
      "needs_background": "light"
     },
     "output_type": "display_data"
    },
    {
     "data": {
      "image/png": "[encoded data removed]",
      "text/plain": [
       "<Figure size 432x288 with 1 Axes>"
      ]
     },
     "metadata": {
      "needs_background": "light"
     },
     "output_type": "display_data"
    },
    {
     "data": {
      "image/png": "[encoded data removed]",
      "text/plain": [
       "<Figure size 432x288 with 1 Axes>"
      ]
     },
     "metadata": {
      "needs_background": "light"
     },
     "output_type": "display_data"
    },
    {
     "data": {
      "image/png": "[encoded data removed]",
      "text/plain": [
       "<Figure size 432x288 with 1 Axes>"
      ]
     },
     "metadata": {
      "needs_background": "light"
     },
     "output_type": "display_data"
    }
   ],
   "source": [
    "import matplotlib.pyplot as plt\n",
    "from matplotlib.colors import LinearSegmentedColormap\n",
    "import numpy as np\n",
    "from PIL import Image, ImageOps\n",
    "\n",
    "\n",
    "colors = [(1, 1, 1), (1, 0, 0)] # Blanco a Rojo\n",
    "colors1 = [(0, 1, 0), (0, 1, 1)] # Verde a Cyan\n",
    "colors2 = [(0, 1, 1), (0, 0, 0)] # Cyan a negro\n",
    "colors3 = [(1, 0, 0), (1, 0, 1)] # Rojo a magenta\n",
    "colors4 = [(0, 1, 0), (1, 1, 1)] # Verde a Blanco\n",
    "colors5 = [(0, 0, 0), (1, 0, 1)] # Negro a Magenta\n",
    "colors6 = [(1, 1, 0), (0, 1, 1)] # Amarillo a Cyan\n",
    "colors7 = [(0, 1, 1), (1, 0, 0)] # Cyan a rojo\n",
    "\n",
    "cm = LinearSegmentedColormap.from_list(\n",
    "        \"Custom\", colors, N=256)\n",
    "cm1 = LinearSegmentedColormap.from_list(\n",
    "        \"Custom\", colors1, N=256)\n",
    "cm2 = LinearSegmentedColormap.from_list(\n",
    "        \"Custom\", colors2, N=256)\n",
    "cm3 = LinearSegmentedColormap.from_list(\n",
    "        \"Custom\", colors3, N=256)\n",
    "cm4 = LinearSegmentedColormap.from_list(\n",
    "        \"Custom\", colors4, N=256)\n",
    "cm5 = LinearSegmentedColormap.from_list(\n",
    "        \"Custom\", colors5, N=256)\n",
    "cm6 = LinearSegmentedColormap.from_list(\n",
    "        \"Custom\", colors6, N=256)\n",
    "cm7 = LinearSegmentedColormap.from_list(\n",
    "        \"Custom\", colors7, N=256)\n",
    "\n",
    "\n",
    "mat = np.indices((32,256))[1]\n",
    "\n",
    "\n",
    "plt.imshow(mat, cmap=cm)\n",
    "plt.show()\n",
    "plt.imshow(mat, cmap=cm1)\n",
    "plt.show()\n",
    "plt.imshow(mat, cmap=cm2)\n",
    "plt.show()\n",
    "plt.imshow(mat, cmap=cm3)\n",
    "plt.show()\n",
    "plt.imshow(mat, cmap=cm4)\n",
    "plt.show()\n",
    "plt.imshow(mat, cmap=cm5)\n",
    "plt.show()\n",
    "plt.imshow(mat, cmap=cm6)\n",
    "plt.show()\n",
    "plt.imshow(mat, cmap=cm7)\n",
    "plt.show()\n",
    "\n",
    "mat2= 255*np.ones((256,256,3),np.uint8) #Matriz de arreglos para la creacion de los colores.\n",
    "for i in range(256):\n",
    "    for j in range(32):\n",
    "        mat2[j,i]=[255,255-i,255-i]\n",
    "    for j in range(32):\n",
    "        mat2[32+j,i]=[0,255,i]\n",
    "    for j in range(32):\n",
    "        mat2[64+j,i]=[0,255-i,255-i]\n",
    "    for j in range(32):\n",
    "        mat2[96+j,i]=[255,0,i]\n",
    "    for j in range(32):\n",
    "        mat2[128+j,i]=[i,255,i]\n",
    "    for j in range(32):\n",
    "        mat2[160+j,i]=[i,0,i]\n",
    "    for j in range(32):\n",
    "        mat2[192+j,i]=[255-i,255,i]\n",
    "    for j in range(32):\n",
    "        mat2[224+j,i]=[i,255-i,255-i]       \n",
    "\n",
    "plt.imshow(mat2)\n",
    "plt.savefig('Gradient.png')"
   ]
  },
  {
   "cell_type": "code",
   "execution_count": null,
   "id": "c699936d",
   "metadata": {},
   "outputs": [],
   "source": []
  }
 ],
 "metadata": {
  "kernelspec": {
   "display_name": "Python 3 (ipykernel)",
   "language": "python",
   "name": "python3"
  },
  "language_info": {
   "codemirror_mode": {
    "name": "ipython",
    "version": 3
   },
   "file_extension": ".py",
   "mimetype": "text/x-python",
   "name": "python",
   "nbconvert_exporter": "python",
   "pygments_lexer": "ipython3",
   "version": "3.9.12"
  }
 },
 "nbformat": 4,
 "nbformat_minor": 5
}
